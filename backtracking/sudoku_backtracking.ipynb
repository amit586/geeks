{
 "cells": [
  {
   "cell_type": "markdown",
   "metadata": {},
   "source": [
    "#### solve sudoku using backtracking #######\n"
   ]
  },
  {
   "cell_type": "code",
   "execution_count": 10,
   "metadata": {
    "scrolled": true
   },
   "outputs": [
    {
     "name": "stdout",
     "output_type": "stream",
     "text": [
      "No solution exists\n"
     ]
    }
   ],
   "source": [
    "def printSudoku(arr):\n",
    "    for i in range(3):\n",
    "        for j in range(3):\n",
    "            print(arr[i][j],end=\" \")\n",
    "        print(end=\"| \")\n",
    "        \n",
    "        for j in range(3,6):\n",
    "            print(arr[i][j],end=\" \")\n",
    "        print(end=\"| \")\n",
    "        \n",
    "        for j in range(6,9):\n",
    "            print(arr[i][j],end=\" \")\n",
    "        print(\" \")\n",
    "    print(\"\")\n",
    "    for i in range(3,6):\n",
    "        for j in range(3):\n",
    "            print(arr[i][j],end=\" \")\n",
    "        print(end=\"| \")\n",
    "        \n",
    "        for j in range(3,6):\n",
    "            print(arr[i][j],end=\" \")\n",
    "        print(end=\"| \")\n",
    "        \n",
    "        for j in range(6,9):\n",
    "            print(arr[i][j],end=\" \")\n",
    "        print(\" \")\n",
    "    print(\"\")\n",
    "    for i in range(6,9):\n",
    "        for j in range(3):\n",
    "            print(arr[i][j],end=\" \")\n",
    "        print(end=\"| \")\n",
    "        \n",
    "        for j in range(3,6):\n",
    "            print(arr[i][j],end=\" \")\n",
    "        print(end=\"| \")\n",
    "        \n",
    "        for j in range(6,9):\n",
    "            print(arr[i][j],end=\" \")\n",
    "        print(\" \")\n",
    "        \n",
    "def findEmpty(arr,l):\n",
    "    for i in range(9):\n",
    "        for j in range(9):\n",
    "            if(arr[i][j]==0):\n",
    "                l[0]=i\n",
    "                l[1]=j\n",
    "                return True\n",
    "    return False\n",
    "\n",
    "def used_in_col(arr,col,num):\n",
    "    for i in range(9):\n",
    "        if arr[i][col]==num:\n",
    "            return True\n",
    "    return False\n",
    "\n",
    "def used_in_row(arr,row,num):\n",
    "    for i in range(9):\n",
    "        if arr[row][i]==num:\n",
    "            return True\n",
    "    return False\n",
    "\n",
    "def used_in_box(arr,row,col,num):\n",
    "    for i in range(3):\n",
    "        for j in range(3):\n",
    "            if arr[i+row][j+col]==num:\n",
    "                return True\n",
    "    return False\n",
    "\n",
    "def can_use(arr,row,col,num):\n",
    "    return not used_in_col(arr,row,num) and not used_in_row(arr,col,num) and not used_in_box(arr,row-row%3,col-col%3,num)\n",
    "\n",
    "\n",
    "def solveSudoku(arr):\n",
    "    l = [0,0]\n",
    "    if(not findEmpty(arr,l)):\n",
    "        return True\n",
    "    row = l[0]\n",
    "    col=l[1]\n",
    "    \n",
    "    for i in range(1,10):\n",
    "        if can_use(arr,row,col,i):\n",
    "            arr[row][col]=i\n",
    "            if(solveSudoku(arr)):\n",
    "                return True\n",
    "            arr[row][col]=0\n",
    "    return False\n",
    "\n",
    "# Driver main function to test above functions \n",
    "if __name__==\"__main__\": \n",
    "      \n",
    "    # creating a 2D array for the grid \n",
    "    grid=[[0 for x in range(9)]for y in range(9)] \n",
    "  \n",
    "\n",
    "      \n",
    "    # if success print the grid \n",
    "    if(solveSudoku(grid)): \n",
    "        printSudoku(grid) \n",
    "    else: \n",
    "        print(\"No solution exists\")\n"
   ]
  },
  {
   "cell_type": "code",
   "execution_count": null,
   "metadata": {},
   "outputs": [],
   "source": []
  }
 ],
 "metadata": {
  "kernelspec": {
   "display_name": "Python 3",
   "language": "python",
   "name": "python3"
  },
  "language_info": {
   "codemirror_mode": {
    "name": "ipython",
    "version": 3
   },
   "file_extension": ".py",
   "mimetype": "text/x-python",
   "name": "python",
   "nbconvert_exporter": "python",
   "pygments_lexer": "ipython3",
   "version": "3.7.6"
  }
 },
 "nbformat": 4,
 "nbformat_minor": 4
}
